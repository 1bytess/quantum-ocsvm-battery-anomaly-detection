{
 "cells": [
  {
   "cell_type": "markdown",
   "id": "4059e7d9",
   "metadata": {},
   "source": [
    "## **2.1 Load Libraries & Segmentation**"
   ]
  },
  {
   "cell_type": "code",
   "execution_count": 1,
   "id": "35b3bc70",
   "metadata": {},
   "outputs": [
    {
     "name": "stdout",
     "output_type": "stream",
     "text": [
      "Phase 2 directories created/verified:\n",
      "  Plots: result/phase_2\\plot\n",
      "  Data:  result/phase_2\\data\n",
      "Random seed set to 42\n",
      "IEEE plot settings applied.\n",
      "\n",
      "Loaded 1241 discharge cycles from result\\phase_1\\data\\cycles.pkl\n",
      "  First cycle: start_idx=12966, end_idx=16645\n",
      "  Last cycle: start_idx=20662901, end_idx=20664702\n"
     ]
    }
   ],
   "source": [
    "# === 1. Import Libraries ===\n",
    "import os\n",
    "import random\n",
    "import numpy as np\n",
    "import pandas as pd\n",
    "import pickle\n",
    "import matplotlib.pyplot as plt\n",
    "import seaborn as sns\n",
    "from pathlib import Path\n",
    "\n",
    "# === 2. Define Project Paths ===\n",
    "PHASE_NUMBER = 2\n",
    "\n",
    "RESULT_DIR = f\"result/phase_{PHASE_NUMBER}\"\n",
    "PLOT_DIR = os.path.join(RESULT_DIR, \"plot\")\n",
    "DATA_DIR = os.path.join(RESULT_DIR, \"data\")\n",
    "\n",
    "os.makedirs(PLOT_DIR, exist_ok=True)\n",
    "os.makedirs(DATA_DIR, exist_ok=True)\n",
    "\n",
    "print(f\"Phase {PHASE_NUMBER} directories created/verified:\")\n",
    "print(f\"  Plots: {PLOT_DIR}\")\n",
    "print(f\"  Data:  {DATA_DIR}\")\n",
    "\n",
    "# === 3. Set Random Seed for Reproducibility ===\n",
    "SEED = 42\n",
    "random.seed(SEED)\n",
    "np.random.seed(SEED)\n",
    "print(f\"Random seed set to {SEED}\")\n",
    "\n",
    "# === 4. Matplotlib Plotting Settings (for IEEE) ===\n",
    "def setup_ieee_plots():\n",
    "    \"\"\"Apply consistent, professional plot settings for IEEE publication.\"\"\"\n",
    "    plt.rcParams.update({\n",
    "        'figure.figsize': (8, 5),\n",
    "        'figure.dpi': 300,\n",
    "        'font.family': 'serif',\n",
    "        'font.size': 12,\n",
    "        'axes.titlesize': 14,\n",
    "        'axes.labelsize': 12,\n",
    "        'xtick.labelsize': 10,\n",
    "        'ytick.labelsize': 10,\n",
    "        'legend.fontsize': 10,\n",
    "        'lines.linewidth': 2,\n",
    "        'lines.markersize': 5,\n",
    "        'grid.alpha': 0.3,\n",
    "        'grid.linestyle': '--',\n",
    "        'axes.grid': True,\n",
    "    })\n",
    "    print(\"IEEE plot settings applied.\")\n",
    "\n",
    "setup_ieee_plots()\n",
    "\n",
    "# === 5. Load Phase 1 Segmentation ===\n",
    "cycles_path = Path('./result/phase_1/data/cycles.pkl')\n",
    "with open(cycles_path, 'rb') as f:\n",
    "    cycles = pickle.load(f)\n",
    "\n",
    "print(f\"\\nLoaded {len(cycles)} discharge cycles from {cycles_path}\")\n",
    "print(f\"  First cycle: start_idx={cycles[0]['start_idx']}, end_idx={cycles[0]['end_idx']}\")\n",
    "print(f\"  Last cycle: start_idx={cycles[-1]['start_idx']}, end_idx={cycles[-1]['end_idx']}\")"
   ]
  },
  {
   "cell_type": "markdown",
   "id": "6658a844",
   "metadata": {},
   "source": [
    "## **2.2 Define Per-Cycle Feature Computations**"
   ]
  },
  {
   "cell_type": "code",
   "execution_count": 2,
   "id": "bccf8e64",
   "metadata": {},
   "outputs": [
    {
     "name": "stdout",
     "output_type": "stream",
     "text": [
      "Feature computation parameters defined:\n",
      "  Sampling interval (dt): 1.0 s\n",
      "  Features to compute: 8 (capacity_Ah, energy_Wh, duration_s, v_min, v_max, v_mean, i_rms, dVdt_abs_mean)\n"
     ]
    }
   ],
   "source": [
    "dt = 1.0\n",
    "\n",
    "print(\"Feature computation parameters defined:\")\n",
    "print(f\"  Sampling interval (dt): {dt} s\")\n",
    "print(f\"  Features to compute: 8 (capacity_Ah, energy_Wh, duration_s, v_min, v_max, v_mean, i_rms, dVdt_abs_mean)\")"
   ]
  },
  {
   "cell_type": "markdown",
   "id": "81742843",
   "metadata": {},
   "source": [
    "## **2.3 Compute Features for All Discharge Cycles**"
   ]
  },
  {
   "cell_type": "code",
   "execution_count": 3,
   "id": "0e235436",
   "metadata": {},
   "outputs": [
    {
     "name": "stdout",
     "output_type": "stream",
     "text": [
      "Loading raw data from ./data/data.csv...\n",
      "Loaded 22714175 rows\n",
      "\n",
      "Computing features for 1241 discharge cycles...\n",
      "  Processed 200/1241 cycles\n",
      "  Processed 400/1241 cycles\n",
      "  Processed 600/1241 cycles\n",
      "  Processed 800/1241 cycles\n",
      "  Processed 1000/1241 cycles\n",
      "  Processed 1200/1241 cycles\n",
      "  Processed 1241/1241 cycles\n",
      "\n",
      "Feature extraction complete: 1241 cycles\n",
      "Feature table shape: (1241, 9)\n",
      "\n",
      "First 5 cycles:\n",
      "   cycle_idx  capacity_Ah  energy_Wh  duration_s    v_min    v_max    v_mean  \\\n",
      "0          1     3.270184  11.696697      3680.0  3.00000  4.08156  3.576643   \n",
      "1          2     3.266630  11.682788      3676.0  3.00000  4.08171  3.576276   \n",
      "2          3     3.265743  11.679512      3675.0  3.00000  4.08232  3.576245   \n",
      "3          4     3.266631  11.682687      3676.0  2.99985  4.08324  3.576245   \n",
      "4          5     3.255080  11.641008      3663.0  3.00000  4.08309  3.576131   \n",
      "\n",
      "      i_rms  dVdt_abs_mean  \n",
      "0  3.199528       0.000362  \n",
      "1  3.199529       0.000363  \n",
      "2  3.199531       0.000360  \n",
      "3  3.199530       0.000364  \n",
      "4  3.199533       0.000361  \n"
     ]
    }
   ],
   "source": [
    "raw_data_path = './data/data.csv'\n",
    "print(f\"Loading raw data from {raw_data_path}...\")\n",
    "\n",
    "df_raw = pd.read_csv(raw_data_path, header=None, names=['Current', 'Voltage'])\n",
    "print(f\"Loaded {len(df_raw)} rows\")\n",
    "\n",
    "features_list = []\n",
    "\n",
    "print(f\"\\nComputing features for {len(cycles)} discharge cycles...\")\n",
    "for i, cycle in enumerate(cycles):\n",
    "    start_idx = cycle['start_idx']\n",
    "    end_idx = cycle['end_idx']\n",
    "    \n",
    "    current = df_raw.loc[start_idx:end_idx, 'Current'].values\n",
    "    voltage = df_raw.loc[start_idx:end_idx, 'Voltage'].values\n",
    "    \n",
    "    capacity_Ah = np.sum(np.abs(current)) * dt / 3600.0\n",
    "    energy_Wh = np.sum(voltage * np.abs(current)) * dt / 3600.0\n",
    "    duration_s = len(current) * dt\n",
    "    v_min = np.min(voltage)\n",
    "    v_max = np.max(voltage)\n",
    "    v_mean = np.mean(voltage)\n",
    "    i_rms = np.sqrt(np.mean(current**2))\n",
    "    dV = np.diff(voltage)\n",
    "    dVdt_abs_mean = np.mean(np.abs(dV / dt))\n",
    "    \n",
    "    features_list.append({\n",
    "        'cycle_idx': i + 1,\n",
    "        'capacity_Ah': capacity_Ah,\n",
    "        'energy_Wh': energy_Wh,\n",
    "        'duration_s': duration_s,\n",
    "        'v_min': v_min,\n",
    "        'v_max': v_max,\n",
    "        'v_mean': v_mean,\n",
    "        'i_rms': i_rms,\n",
    "        'dVdt_abs_mean': dVdt_abs_mean\n",
    "    })\n",
    "    \n",
    "    if (i + 1) % 200 == 0 or (i + 1) == len(cycles):\n",
    "        print(f\"  Processed {i + 1}/{len(cycles)} cycles\")\n",
    "\n",
    "df_features = pd.DataFrame(features_list)\n",
    "print(f\"\\nFeature extraction complete: {len(df_features)} cycles\")\n",
    "print(f\"Feature table shape: {df_features.shape}\")\n",
    "print(f\"\\nFirst 5 cycles:\")\n",
    "print(df_features.head())"
   ]
  },
  {
   "cell_type": "markdown",
   "id": "86b9b4cc",
   "metadata": {},
   "source": [
    "## **2.4 Assemble Feature Table & Basic QA (NaNs, Infs, Ranges)**"
   ]
  },
  {
   "cell_type": "code",
   "execution_count": 4,
   "id": "9cde2dee",
   "metadata": {},
   "outputs": [
    {
     "name": "stdout",
     "output_type": "stream",
     "text": [
      "=== Feature Table Quality Assurance ===\n",
      "\n",
      "NaN counts per column:\n",
      "cycle_idx        0\n",
      "capacity_Ah      0\n",
      "energy_Wh        0\n",
      "duration_s       0\n",
      "v_min            0\n",
      "v_max            0\n",
      "v_mean           0\n",
      "i_rms            0\n",
      "dVdt_abs_mean    0\n",
      "dtype: int64\n",
      "\n",
      "Total NaNs: 0\n",
      "\n",
      "Inf counts per column:\n",
      "cycle_idx        0\n",
      "capacity_Ah      0\n",
      "energy_Wh        0\n",
      "duration_s       0\n",
      "v_min            0\n",
      "v_max            0\n",
      "v_mean           0\n",
      "i_rms            0\n",
      "dVdt_abs_mean    0\n",
      "dtype: int64\n",
      "\n",
      "Total Infs: 0\n",
      "\n",
      "=== Feature Statistics ===\n",
      "         cycle_idx  capacity_Ah    energy_Wh   duration_s        v_min  \\\n",
      "count  1241.000000  1241.000000  1241.000000  1241.000000  1241.000000   \n",
      "mean    621.000000     2.720129     9.633363  3061.181305     3.000215   \n",
      "std     358.390151     0.390261     1.426536   439.049050     0.008109   \n",
      "min       1.000000     1.600867     5.569795  1802.000000     2.999690   \n",
      "25%     311.000000     2.675526     9.456238  3011.000000     3.000000   \n",
      "50%     621.000000     2.820412     9.994383  3174.000000     3.000000   \n",
      "75%     931.000000     2.955528    10.494493  3326.000000     3.000000   \n",
      "max    1241.000000     3.270184    11.696697  3680.000000     3.285649   \n",
      "\n",
      "             v_max       v_mean        i_rms  dVdt_abs_mean  \n",
      "count  1241.000000  1241.000000  1241.000000    1241.000000  \n",
      "mean      4.065785     3.538481     3.199426       0.000419  \n",
      "std       0.014103     0.020427     0.000099       0.000063  \n",
      "min       4.017014     3.479043     3.199005       0.000359  \n",
      "25%       4.062791     3.534053     3.199425       0.000383  \n",
      "50%       4.069500     3.543403     3.199458       0.000396  \n",
      "75%       4.074690     3.550443     3.199482       0.000414  \n",
      "max       4.084000     3.581731     3.199543       0.000663  \n",
      "\n",
      "=== Feature Ranges ===\n",
      "capacity_Ah         : [1.600867, 3.270184]\n",
      "energy_Wh           : [5.569795, 11.696697]\n",
      "duration_s          : [1802.000000, 3680.000000]\n",
      "v_min               : [2.999690, 3.285649]\n",
      "v_max               : [4.017014, 4.084000]\n",
      "v_mean              : [3.479043, 3.581731]\n",
      "i_rms               : [3.199005, 3.199543]\n",
      "dVdt_abs_mean       : [0.000359, 0.000663]\n",
      "\n",
      "Quality assurance complete\n"
     ]
    }
   ],
   "source": [
    "print(\"=== Feature Table Quality Assurance ===\\n\")\n",
    "\n",
    "nan_counts = df_features.isna().sum()\n",
    "print(\"NaN counts per column:\")\n",
    "print(nan_counts)\n",
    "print(f\"\\nTotal NaNs: {nan_counts.sum()}\")\n",
    "\n",
    "inf_counts = np.isinf(df_features.select_dtypes(include=[np.number])).sum()\n",
    "print(\"\\nInf counts per column:\")\n",
    "print(inf_counts)\n",
    "print(f\"\\nTotal Infs: {inf_counts.sum()}\")\n",
    "\n",
    "print(\"\\n=== Feature Statistics ===\")\n",
    "print(df_features.describe())\n",
    "\n",
    "print(\"\\n=== Feature Ranges ===\")\n",
    "feature_cols = ['capacity_Ah', 'energy_Wh', 'duration_s', 'v_min', 'v_max', 'v_mean', 'i_rms', 'dVdt_abs_mean']\n",
    "for col in feature_cols:\n",
    "    min_val = df_features[col].min()\n",
    "    max_val = df_features[col].max()\n",
    "    print(f\"{col:20s}: [{min_val:.6f}, {max_val:.6f}]\")\n",
    "\n",
    "print(\"\\nQuality assurance complete\")"
   ]
  },
  {
   "cell_type": "markdown",
   "id": "b6228e3f",
   "metadata": {},
   "source": [
    "## **2.5 Save Features**"
   ]
  },
  {
   "cell_type": "code",
   "execution_count": 5,
   "id": "c9b3f606",
   "metadata": {},
   "outputs": [
    {
     "name": "stdout",
     "output_type": "stream",
     "text": [
      "Features saved to: result/phase_2\\data\\features.csv\n",
      "  Shape: (1241, 9)\n",
      "  Columns: ['cycle_idx', 'capacity_Ah', 'energy_Wh', 'duration_s', 'v_min', 'v_max', 'v_mean', 'i_rms', 'dVdt_abs_mean']\n",
      "  Cycles: 1241\n"
     ]
    }
   ],
   "source": [
    "features_path = os.path.join(DATA_DIR, 'features.csv')\n",
    "df_features.to_csv(features_path, index=False)\n",
    "\n",
    "print(f\"Features saved to: {features_path}\")\n",
    "print(f\"  Shape: {df_features.shape}\")\n",
    "print(f\"  Columns: {list(df_features.columns)}\")\n",
    "print(f\"  Cycles: {len(df_features)}\")"
   ]
  },
  {
   "cell_type": "code",
   "execution_count": null,
   "id": "82397e8d",
   "metadata": {},
   "outputs": [],
   "source": []
  }
 ],
 "metadata": {
  "kernelspec": {
   "display_name": "escl",
   "language": "python",
   "name": "python3"
  },
  "language_info": {
   "codemirror_mode": {
    "name": "ipython",
    "version": 3
   },
   "file_extension": ".py",
   "mimetype": "text/x-python",
   "name": "python",
   "nbconvert_exporter": "python",
   "pygments_lexer": "ipython3",
   "version": "3.11.13"
  }
 },
 "nbformat": 4,
 "nbformat_minor": 5
}
