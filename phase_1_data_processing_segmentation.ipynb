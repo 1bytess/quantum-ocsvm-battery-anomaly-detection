{
 "cells": [
  {
   "cell_type": "markdown",
   "id": "fb0f1341",
   "metadata": {},
   "source": [
    "## **1.1 Load Libraries & Create Output Dirs**"
   ]
  },
  {
   "cell_type": "code",
   "execution_count": 6,
   "id": "f9bb9139",
   "metadata": {},
   "outputs": [
    {
     "name": "stdout",
     "output_type": "stream",
     "text": [
      "Phase 1 directories created successfully.\n",
      "Output directory: /result/phase_1/data\n",
      "Output directory: /result/phase_1/plot\n"
     ]
    }
   ],
   "source": [
    "import os\n",
    "import pandas as pd\n",
    "import numpy as np\n",
    "import pickle\n",
    "\n",
    "# Create output directory structure for Phase 1\n",
    "os.makedirs('./result/phase_1/data', exist_ok=True)\n",
    "os.makedirs('./result/phase_1/plot', exist_ok=True)\n",
    "\n",
    "print(\"Phase 1 directories created successfully.\")\n",
    "print(f\"Output directory: /result/phase_1/data\")\n",
    "print(f\"Output directory: /result/phase_1/plot\")"
   ]
  },
  {
   "cell_type": "markdown",
   "id": "8def3dc5",
   "metadata": {},
   "source": [
    "## **1.2 Stream-Load Raw CSV (No Header) & Assign Columns**"
   ]
  },
  {
   "cell_type": "code",
   "execution_count": 10,
   "id": "972d5a43",
   "metadata": {},
   "outputs": [
    {
     "name": "stdout",
     "output_type": "stream",
     "text": [
      "Total rows loaded: 22,714,175\n",
      "Columns: ['Current', 'Voltage']\n",
      "\n",
      "First 5 rows:\n",
      "   Current  Voltage\n",
      "0      0.0  3.44511\n",
      "1      0.0  3.44495\n",
      "2      0.0  3.44495\n",
      "3      0.0  3.44495\n",
      "4      0.0  3.44511\n"
     ]
    }
   ],
   "source": [
    "# Load raw CSV without header\n",
    "# Columns: Current (A), Voltage (V)\n",
    "df = pd.read_csv('./data/data.csv', header=None, names=['Current', 'Voltage'])\n",
    "\n",
    "print(f\"Total rows loaded: {len(df):,}\")\n",
    "print(f\"Columns: {list(df.columns)}\")\n",
    "print(f\"\\nFirst 5 rows:\")\n",
    "print(df.head())"
   ]
  },
  {
   "cell_type": "markdown",
   "id": "f0cc1eca",
   "metadata": {},
   "source": [
    "## **1.3 Basic Sanity Checks (Row Counts, Zero/± Current)**"
   ]
  },
  {
   "cell_type": "code",
   "execution_count": 11,
   "id": "701d8533",
   "metadata": {},
   "outputs": [
    {
     "name": "stdout",
     "output_type": "stream",
     "text": [
      "Total rows: 22,714,175\n",
      "Zero current samples: 10,145,126 (44.66%)\n",
      "Positive current samples: 8,564,265 (37.70%)\n",
      "Negative current samples: 4,004,784 (17.63%)\n",
      "\n",
      "Sum check: 22714175 == 22714175: True\n"
     ]
    }
   ],
   "source": [
    "# Basic sanity checks\n",
    "total_rows = len(df)\n",
    "zero_current = (df['Current'] == 0.0).sum()\n",
    "positive_current = (df['Current'] > 0.0).sum()\n",
    "negative_current = (df['Current'] < 0.0).sum()\n",
    "\n",
    "print(f\"Total rows: {total_rows:,}\")\n",
    "print(f\"Zero current samples: {zero_current:,} ({100*zero_current/total_rows:.2f}%)\")\n",
    "print(f\"Positive current samples: {positive_current:,} ({100*positive_current/total_rows:.2f}%)\")\n",
    "print(f\"Negative current samples: {negative_current:,} ({100*negative_current/total_rows:.2f}%)\")\n",
    "print(f\"\\nSum check: {zero_current + positive_current + negative_current} == {total_rows}: {zero_current + positive_current + negative_current == total_rows}\")"
   ]
  },
  {
   "cell_type": "markdown",
   "id": "11890584",
   "metadata": {},
   "source": [
    "## **1.4 Current/Voltage Preview (Sample Rows & Descriptives)**"
   ]
  },
  {
   "cell_type": "code",
   "execution_count": 12,
   "id": "c2a8773f",
   "metadata": {},
   "outputs": [
    {
     "name": "stdout",
     "output_type": "stream",
     "text": [
      "Current (A) statistics:\n",
      "count    2.271418e+07\n",
      "mean     3.202284e-03\n",
      "std      1.839635e+00\n",
      "min     -3.225681e+00\n",
      "25%      0.000000e+00\n",
      "50%      0.000000e+00\n",
      "75%      2.572700e-01\n",
      "max      3.229114e+00\n",
      "Name: Current, dtype: float64\n",
      "\n",
      "Current min: -3.2257 A\n",
      "Current max: 3.2291 A\n",
      "\n",
      "Non-zero current mean: 0.0058 A\n",
      "Non-zero current std: 2.4730 A\n",
      "\n",
      "==================================================\n",
      "Voltage (V) statistics:\n",
      "count    2.271418e+07\n",
      "mean     3.869404e+00\n",
      "std      3.486531e-01\n",
      "min      2.999690e+00\n",
      "25%      3.460820e+00\n",
      "50%      4.005720e+00\n",
      "75%      4.195390e+00\n",
      "max      4.201343e+00\n",
      "Name: Voltage, dtype: float64\n",
      "\n",
      "Voltage min: 2.9997 V\n",
      "Voltage max: 4.2013 V\n"
     ]
    }
   ],
   "source": [
    "# Current and Voltage descriptive statistics\n",
    "print(\"Current (A) statistics:\")\n",
    "print(df['Current'].describe())\n",
    "print(f\"\\nCurrent min: {df['Current'].min():.4f} A\")\n",
    "print(f\"Current max: {df['Current'].max():.4f} A\")\n",
    "\n",
    "# Non-zero current statistics\n",
    "non_zero_current = df[df['Current'] != 0.0]['Current']\n",
    "print(f\"\\nNon-zero current mean: {non_zero_current.mean():.4f} A\")\n",
    "print(f\"Non-zero current std: {non_zero_current.std():.4f} A\")\n",
    "\n",
    "print(\"\\n\" + \"=\"*50)\n",
    "print(\"Voltage (V) statistics:\")\n",
    "print(df['Voltage'].describe())\n",
    "print(f\"\\nVoltage min: {df['Voltage'].min():.4f} V\")\n",
    "print(f\"Voltage max: {df['Voltage'].max():.4f} V\")"
   ]
  },
  {
   "cell_type": "markdown",
   "id": "33b2ccbd",
   "metadata": {},
   "source": [
    "## **1.5 Discharge Segmentation (Identify Continuous Negative-Current Blocks)**"
   ]
  },
  {
   "cell_type": "code",
   "execution_count": 13,
   "id": "68d83a57",
   "metadata": {},
   "outputs": [
    {
     "name": "stdout",
     "output_type": "stream",
     "text": [
      "Number of discharge segments detected: 1401\n",
      "Number of discharge starts: 1401\n",
      "Number of discharge ends: 1401\n",
      "\n",
      "First 10 discharge segments (start_idx, end_idx, duration_samples):\n",
      "  Segment 0: start=12966, end=16645, duration=3680 samples (3680s)\n",
      "  Segment 1: start=29998, end=33673, duration=3676 samples (3676s)\n",
      "  Segment 2: start=47011, end=50685, duration=3675 samples (3675s)\n",
      "  Segment 3: start=64015, end=67690, duration=3676 samples (3676s)\n",
      "  Segment 4: start=81003, end=84665, duration=3663 samples (3663s)\n",
      "  Segment 5: start=97996, end=101656, duration=3661 samples (3661s)\n",
      "  Segment 6: start=114956, end=118612, duration=3657 samples (3657s)\n",
      "  Segment 7: start=131935, end=135591, duration=3657 samples (3657s)\n",
      "  Segment 8: start=148907, end=152560, duration=3654 samples (3654s)\n",
      "  Segment 9: start=165861, end=169516, duration=3656 samples (3656s)\n"
     ]
    }
   ],
   "source": [
    "# Identify discharge segments (continuous negative current blocks)\n",
    "discharge_mask = df['Current'] < 0.0\n",
    "\n",
    "# Find segment boundaries using diff on the mask\n",
    "mask_diff = discharge_mask.astype(int).diff()\n",
    "\n",
    "# Start of discharge: transition from 0 to 1 (False to True)\n",
    "discharge_starts = df.index[mask_diff == 1].tolist()\n",
    "\n",
    "# End of discharge: transition from 1 to 0 (True to False)\n",
    "discharge_ends = df.index[mask_diff == -1].tolist()\n",
    "\n",
    "# Handle edge cases\n",
    "if discharge_mask.iloc[0]:\n",
    "    discharge_starts.insert(0, 0)\n",
    "if discharge_mask.iloc[-1]:\n",
    "    discharge_ends.append(len(df) - 1)\n",
    "\n",
    "print(f\"Number of discharge segments detected: {len(discharge_starts)}\")\n",
    "print(f\"Number of discharge starts: {len(discharge_starts)}\")\n",
    "print(f\"Number of discharge ends: {len(discharge_ends)}\")\n",
    "\n",
    "# Preview first few segments\n",
    "print(\"\\nFirst 10 discharge segments (start_idx, end_idx, duration_samples):\")\n",
    "for i in range(min(10, len(discharge_starts))):\n",
    "    start = discharge_starts[i]\n",
    "    end = discharge_ends[i]\n",
    "    duration = end - start + 1\n",
    "    print(f\"  Segment {i}: start={start}, end={end}, duration={duration} samples ({duration}s)\")"
   ]
  },
  {
   "cell_type": "markdown",
   "id": "7566e581",
   "metadata": {},
   "source": [
    "## **1.6 Post-Process Segments (Filter by Minimal Duration/Magnitude; Index Integrity)**"
   ]
  },
  {
   "cell_type": "code",
   "execution_count": 14,
   "id": "70968734",
   "metadata": {},
   "outputs": [
    {
     "name": "stdout",
     "output_type": "stream",
     "text": [
      "Total segments detected: 1401\n",
      "Segments after filtering: 1241\n",
      "Filtered out: 160\n",
      "\n",
      "First 10 filtered discharge cycles:\n",
      "  Cycle 1: start=12966, end=16645, duration=3680s, avg_|I|=3.1991A\n",
      "  Cycle 2: start=29998, end=33673, duration=3676s, avg_|I|=3.1991A\n",
      "  Cycle 3: start=47011, end=50685, duration=3675s, avg_|I|=3.1991A\n",
      "  Cycle 4: start=64015, end=67690, duration=3676s, avg_|I|=3.1991A\n",
      "  Cycle 5: start=81003, end=84665, duration=3663s, avg_|I|=3.1991A\n",
      "  Cycle 6: start=97996, end=101656, duration=3661s, avg_|I|=3.1991A\n",
      "  Cycle 7: start=114956, end=118612, duration=3657s, avg_|I|=3.1991A\n",
      "  Cycle 8: start=131935, end=135591, duration=3657s, avg_|I|=3.1991A\n",
      "  Cycle 9: start=148907, end=152560, duration=3654s, avg_|I|=3.1991A\n",
      "  Cycle 10: start=165861, end=169516, duration=3656s, avg_|I|=3.1991A\n"
     ]
    }
   ],
   "source": [
    "# Filter discharge segments by minimal duration and magnitude criteria\n",
    "MIN_DURATION = 1800  # 1800 seconds (30 minutes) minimum\n",
    "MIN_AVG_MAGNITUDE = 0.1  # Minimum average |current| in Amperes\n",
    "\n",
    "filtered_cycles = []\n",
    "\n",
    "for i in range(len(discharge_starts)):\n",
    "    start_idx = discharge_starts[i]\n",
    "    end_idx = discharge_ends[i]\n",
    "    duration = end_idx - start_idx + 1\n",
    "    \n",
    "    # Filter by duration\n",
    "    if duration < MIN_DURATION:\n",
    "        continue\n",
    "    \n",
    "    # Extract segment current and check average magnitude\n",
    "    segment_current = df.loc[start_idx:end_idx, 'Current'].values\n",
    "    avg_magnitude = np.abs(segment_current).mean()\n",
    "    \n",
    "    # Filter by magnitude\n",
    "    if avg_magnitude < MIN_AVG_MAGNITUDE:\n",
    "        continue\n",
    "    \n",
    "    filtered_cycles.append({\n",
    "        'cycle_idx': len(filtered_cycles) + 1,\n",
    "        'start_idx': start_idx,\n",
    "        'end_idx': end_idx,\n",
    "        'duration': duration,\n",
    "        'avg_current_magnitude': avg_magnitude\n",
    "    })\n",
    "\n",
    "print(f\"Total segments detected: {len(discharge_starts)}\")\n",
    "print(f\"Segments after filtering: {len(filtered_cycles)}\")\n",
    "print(f\"Filtered out: {len(discharge_starts) - len(filtered_cycles)}\")\n",
    "\n",
    "print(f\"\\nFirst 10 filtered discharge cycles:\")\n",
    "for cycle in filtered_cycles[:10]:\n",
    "    print(f\"  Cycle {cycle['cycle_idx']}: start={cycle['start_idx']}, end={cycle['end_idx']}, \"\n",
    "          f\"duration={cycle['duration']}s, avg_|I|={cycle['avg_current_magnitude']:.4f}A\")"
   ]
  },
  {
   "cell_type": "markdown",
   "id": "7a752229",
   "metadata": {},
   "source": [
    "## **1.7 Save Segmentation**"
   ]
  },
  {
   "cell_type": "code",
   "execution_count": 16,
   "id": "9afba1c2",
   "metadata": {},
   "outputs": [
    {
     "name": "stdout",
     "output_type": "stream",
     "text": [
      "Saved cycles to: ./result/phase_1/data/cycles.pkl\n",
      "Total cycles saved: 1241\n",
      "\n",
      "Saved summary to: ./result/phase_1/data/summary.csv\n",
      "\n",
      "Summary statistics:\n",
      "  Total discharge cycles: 1241\n",
      "  Duration range: 1802s to 3680s\n",
      "  Duration mean: 3061.2s\n",
      "  Avg current magnitude range: 3.1981A to 3.1991A\n",
      "  Avg current magnitude mean: 3.1989A\n",
      "\n",
      "Phase 1 data preprocessing complete.\n"
     ]
    }
   ],
   "source": [
    "# Save cycles as pickle\n",
    "cycles_path = './result/phase_1/data/cycles.pkl'\n",
    "with open(cycles_path, 'wb') as f:\n",
    "    pickle.dump(filtered_cycles, f)\n",
    "\n",
    "print(f\"Saved cycles to: {cycles_path}\")\n",
    "print(f\"Total cycles saved: {len(filtered_cycles)}\")\n",
    "\n",
    "# Create summary DataFrame and save as CSV\n",
    "summary_df = pd.DataFrame(filtered_cycles)\n",
    "summary_path = './result/phase_1/data/summary.csv'\n",
    "summary_df.to_csv(summary_path, index=False)\n",
    "\n",
    "print(f\"\\nSaved summary to: {summary_path}\")\n",
    "print(f\"\\nSummary statistics:\")\n",
    "print(f\"  Total discharge cycles: {len(filtered_cycles)}\")\n",
    "print(f\"  Duration range: {summary_df['duration'].min()}s to {summary_df['duration'].max()}s\")\n",
    "print(f\"  Duration mean: {summary_df['duration'].mean():.1f}s\")\n",
    "print(f\"  Avg current magnitude range: {summary_df['avg_current_magnitude'].min():.4f}A to {summary_df['avg_current_magnitude'].max():.4f}A\")\n",
    "print(f\"  Avg current magnitude mean: {summary_df['avg_current_magnitude'].mean():.4f}A\")\n",
    "\n",
    "print(\"\\nPhase 1 data preprocessing complete.\")"
   ]
  }
 ],
 "metadata": {
  "kernelspec": {
   "display_name": "escl",
   "language": "python",
   "name": "python3"
  },
  "language_info": {
   "codemirror_mode": {
    "name": "ipython",
    "version": 3
   },
   "file_extension": ".py",
   "mimetype": "text/x-python",
   "name": "python",
   "nbconvert_exporter": "python",
   "pygments_lexer": "ipython3",
   "version": "3.11.13"
  }
 },
 "nbformat": 4,
 "nbformat_minor": 5
}
